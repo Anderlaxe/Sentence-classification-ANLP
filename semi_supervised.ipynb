{
 "cells": [
  {
   "cell_type": "code",
   "execution_count": 24,
   "metadata": {},
   "outputs": [
    {
     "name": "stdout",
     "output_type": "stream",
     "text": [
      "Using device:  cuda\n"
     ]
    }
   ],
   "source": [
    "from src.models.bert import BertClassifier\n",
    "from src.dataloader.dataloading import TrainDataset, TestDataset\n",
    "import pandas as pd\n",
    "import torch\n",
    "import torch.nn as nn\n",
    "from torch.utils.data import DataLoader\n",
    "\n",
    "\n",
    "DEVICE = torch.device(\"cuda\" if torch.cuda.is_available() else \"cpu\")\n",
    "print(\"Using device: \", DEVICE)"
   ]
  },
  {
   "cell_type": "markdown",
   "metadata": {},
   "source": [
    "Load model"
   ]
  },
  {
   "cell_type": "code",
   "execution_count": 33,
   "metadata": {},
   "outputs": [],
   "source": [
    "model = BertClassifier()\n",
    "model.load_state_dict(torch.load(\"model_weights/bert_clf_augmented_data.pth\"))\n",
    "model.to(DEVICE);\n",
    "test_dataset = TestDataset('./data/test_shuffle.txt')\n",
    "test_dataloader = DataLoader(test_dataset, batch_size=128)\n",
    "train_dataset = TrainDataset('./data/augmented.json')\n",
    "labels = train_dataset.labels"
   ]
  },
  {
   "cell_type": "markdown",
   "metadata": {},
   "source": [
    "Generate pseudo-labels for the test set"
   ]
  },
  {
   "cell_type": "code",
   "execution_count": 34,
   "metadata": {},
   "outputs": [],
   "source": [
    "probs = []\n",
    "model.eval()\n",
    "with torch.no_grad():\n",
    "    for input_ids, attention_mask, token_type_ids in test_dataloader:\n",
    "            input_ids, attention_mask, token_type_ids = input_ids.to(DEVICE), attention_mask.to(DEVICE), token_type_ids.to(DEVICE)\n",
    "            outputs = model(input_ids, attention_mask, token_type_ids)\n",
    "            # print(outputs)\n",
    "            probs.append(outputs.cpu())\n",
    "probs = torch.cat(probs, dim=0)\n",
    "confidence = torch.max(probs, dim=1).values\n",
    "preds = torch.argmax(probs, dim=1)\n",
    "preds = [labels[i.item()] for i in preds]\n",
    "texts = test_dataset.sentences\n",
    "confidence = confidence.numpy()\n",
    "\n",
    "pred_df = pd.DataFrame({'label': preds, 'confidence': confidence})"
   ]
  },
  {
   "cell_type": "code",
   "execution_count": 35,
   "metadata": {},
   "outputs": [
    {
     "name": "stdout",
     "output_type": "stream",
     "text": [
      "label\n",
      "Education        0.821429\n",
      "Entertainment    0.489362\n",
      "Environment      0.578125\n",
      "Fashion          0.822917\n",
      "Finance          0.697674\n",
      "Food             0.285714\n",
      "Health           0.773333\n",
      "Politics         0.839080\n",
      "Science          0.567164\n",
      "Sports           0.423913\n",
      "Technology       0.514286\n",
      "Travel           0.686275\n",
      "Name: count, dtype: float64\n",
      "label\n",
      "Health           116\n",
      "Education         92\n",
      "Fashion           79\n",
      "Environment       74\n",
      "Politics          73\n",
      "Travel            70\n",
      "Finance           60\n",
      "Entertainment     46\n",
      "Sports            39\n",
      "Science           38\n",
      "Technology        36\n",
      "Food              16\n",
      "Name: count, dtype: int64\n",
      "Index([   0,    1,    2,    4,    5,    6,    7,    8,   10,   11,\n",
      "       ...\n",
      "       1120, 1121, 1122, 1125, 1127, 1128, 1133, 1134, 1136, 1138],\n",
      "      dtype='int64', length=739)\n"
     ]
    }
   ],
   "source": [
    "# pred_df.head()\n",
    "thresh = 0.99\n",
    "confident_df = pred_df[pred_df['confidence'] > thresh]\n",
    "# percantages of confident predictions for each label\n",
    "print(confident_df['label'].value_counts() / pred_df['label'].value_counts())\n",
    "print(confident_df['label'].value_counts())\n",
    "print(confident_df.index)"
   ]
  },
  {
   "cell_type": "markdown",
   "metadata": {},
   "source": [
    "Train data augmentation with pseudo-labels"
   ]
  },
  {
   "cell_type": "code",
   "execution_count": 36,
   "metadata": {},
   "outputs": [],
   "source": [
    "import json\n",
    "\n",
    "with open('data/train.json') as f:\n",
    "    train_data = json.load(f)\n",
    "# print(train_data)\n",
    "for i in confident_df.index:\n",
    "    label = confident_df.loc[i, 'label']\n",
    "    text = texts[i]\n",
    "    train_data[label].append(text)\n",
    "\n",
    "with open('data/augmented_semi.json', 'w') as f:\n",
    "    json.dump(train_data, f)"
   ]
  },
  {
   "cell_type": "code",
   "execution_count": null,
   "metadata": {},
   "outputs": [],
   "source": []
  }
 ],
 "metadata": {
  "kernelspec": {
   "display_name": "Python 3",
   "language": "python",
   "name": "python3"
  },
  "language_info": {
   "codemirror_mode": {
    "name": "ipython",
    "version": 3
   },
   "file_extension": ".py",
   "mimetype": "text/x-python",
   "name": "python",
   "nbconvert_exporter": "python",
   "pygments_lexer": "ipython3",
   "version": "3.11.7"
  }
 },
 "nbformat": 4,
 "nbformat_minor": 2
}
